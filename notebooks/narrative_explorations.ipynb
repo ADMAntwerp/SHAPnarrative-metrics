{
 "cells": [
  {
   "cell_type": "code",
   "execution_count": 40,
   "metadata": {},
   "outputs": [],
   "source": [
    "import shap\n",
    "import pandas as pd\n",
    "import numpy as np\n",
    "import pickle\n",
    "import random \n",
    "import yaml\n",
    "import re\n",
    "import dill\n",
    "\n",
    "from shapnarrative_metrics.llm_tools import llm_wrappers\n",
    "from shapnarrative_metrics.misc_tools.manipulations import full_inversion, shap_permutation\n",
    "from shapnarrative_metrics.llm_tools.generation import GenerationModel\n",
    "from shapnarrative_metrics.llm_tools.extraction import ExtractionModel"
   ]
  },
  {
   "cell_type": "markdown",
   "metadata": {},
   "source": [
    "### Load necessary keys and data"
   ]
  },
  {
   "cell_type": "code",
   "execution_count": 41,
   "metadata": {},
   "outputs": [],
   "source": [
    "with open(\"config/keys.yaml\") as f:\n",
    "    dict=yaml.safe_load(f)\n",
    "api_key = dict[\"API_keys\"][\"OpenAI\"]\n",
    "replicate_key = dict[\"API_keys\"][\"Replicate\"]\n",
    "anthropic_key=dict[\"API_keys\"][\"Anthropic\"]\n",
    "mistral_key=dict[\"API_keys\"][\"Mistral\"]"
   ]
  },
  {
   "cell_type": "code",
   "execution_count": 42,
   "metadata": {},
   "outputs": [],
   "source": [
    "dataset_name=\"fifa\"\n",
    "\n",
    "with open(f'data/{dataset_name}_dataset/dataset_info', 'rb') as f:\n",
    "   ds_info= pickle.load(f)\n",
    "\n",
    "with open(f'data/{dataset_name}_dataset/RF.pkl', 'rb') as f:\n",
    "   trained_model=pickle.load(f)\n",
    "\n",
    "train=pd.read_parquet(f\"data/{dataset_name}_dataset/train_cleaned.parquet\")\n",
    "test=pd.read_parquet(f\"data/{dataset_name}_dataset/test_cleaned.parquet\")"
   ]
  },
  {
   "cell_type": "markdown",
   "metadata": {},
   "source": []
  },
  {
   "cell_type": "code",
   "execution_count": 43,
   "metadata": {},
   "outputs": [],
   "source": [
    "n=14\n",
    "\n",
    "idx=882\n",
    "\n",
    "idx=4\n",
    "x=test[test.columns[0:-1]].loc[[idx]]\n",
    "y=test[test.columns[-1]].loc[[idx]]\n",
    "\n",
    " "
   ]
  },
  {
   "cell_type": "code",
   "execution_count": 44,
   "metadata": {},
   "outputs": [],
   "source": [
    "TEMPERATURE=0\n",
    "MANIP=True\n",
    "\n",
    "gpt = llm_wrappers.GptApi(api_key, model=\"gpt-4o\", system_role=\"You are a teacher that explains AI predictions.\", temperature=TEMPERATURE)\n",
    "llama_generation = llm_wrappers.LlamaAPI(api_key=replicate_key , model=\"llama-3-70b-instruct\",system_role=\"You are a teacher that explains AI predictions.\", temperature=TEMPERATURE)\n",
    "claude_generation = llm_wrappers.ClaudeApi(api_key=anthropic_key , model=\"claude-3-5-sonnet-20240620\",system_role=\"You are a teacher that explains AI predictions.\", temperature=TEMPERATURE)\n",
    "mistral_generation=llm_wrappers.MistralApi(api_key=mistral_key, model=\"mistral-large-2407\" ,system_role=\"You are a teacher that explains AI predictions.\", temperature=TEMPERATURE)\n",
    "generator=GenerationModel(ds_info=ds_info, llm=gpt)\n"
   ]
  },
  {
   "cell_type": "code",
   "execution_count": 45,
   "metadata": {},
   "outputs": [
    {
     "data": {
      "text/html": [
       "<div>\n",
       "<style scoped>\n",
       "    .dataframe tbody tr th:only-of-type {\n",
       "        vertical-align: middle;\n",
       "    }\n",
       "\n",
       "    .dataframe tbody tr th {\n",
       "        vertical-align: top;\n",
       "    }\n",
       "\n",
       "    .dataframe thead th {\n",
       "        text-align: right;\n",
       "    }\n",
       "</style>\n",
       "<table border=\"1\" class=\"dataframe\">\n",
       "  <thead>\n",
       "    <tr style=\"text-align: right;\">\n",
       "      <th></th>\n",
       "      <th>feature_name</th>\n",
       "      <th>SHAP_value</th>\n",
       "      <th>feature_value</th>\n",
       "      <th>feature_average</th>\n",
       "      <th>feature_desc</th>\n",
       "    </tr>\n",
       "  </thead>\n",
       "  <tbody>\n",
       "    <tr>\n",
       "      <th>0</th>\n",
       "      <td>Goal Scored</td>\n",
       "      <td>-0.247045</td>\n",
       "      <td>0</td>\n",
       "      <td>1.303922</td>\n",
       "      <td>Number of goals scored by the team during the ...</td>\n",
       "    </tr>\n",
       "    <tr>\n",
       "      <th>1</th>\n",
       "      <td>Ball Possession %</td>\n",
       "      <td>0.034400</td>\n",
       "      <td>64</td>\n",
       "      <td>50.107843</td>\n",
       "      <td>Percentage of ball possession by the team duri...</td>\n",
       "    </tr>\n",
       "    <tr>\n",
       "      <th>2</th>\n",
       "      <td>Attempts</td>\n",
       "      <td>0.032912</td>\n",
       "      <td>13</td>\n",
       "      <td>12.333333</td>\n",
       "      <td>Number of attempts or shots taken by the team.</td>\n",
       "    </tr>\n",
       "    <tr>\n",
       "      <th>3</th>\n",
       "      <td>Fouls Committed</td>\n",
       "      <td>-0.022867</td>\n",
       "      <td>22</td>\n",
       "      <td>13.549020</td>\n",
       "      <td>Number of fouls committed by the team.</td>\n",
       "    </tr>\n",
       "  </tbody>\n",
       "</table>\n",
       "</div>"
      ],
      "text/plain": [
       "        feature_name  SHAP_value  feature_value  feature_average  \\\n",
       "0        Goal Scored   -0.247045              0         1.303922   \n",
       "1  Ball Possession %    0.034400             64        50.107843   \n",
       "2           Attempts    0.032912             13        12.333333   \n",
       "3    Fouls Committed   -0.022867             22        13.549020   \n",
       "\n",
       "                                        feature_desc  \n",
       "0  Number of goals scored by the team during the ...  \n",
       "1  Percentage of ball possession by the team duri...  \n",
       "2     Number of attempts or shots taken by the team.  \n",
       "3             Number of fouls committed by the team.  "
      ]
     },
     "execution_count": 45,
     "metadata": {},
     "output_type": "execute_result"
    }
   ],
   "source": [
    "generator.gen_variables(trained_model,x,y,tree=True)\n",
    "generator.explanation_list[0].head(4)"
   ]
  },
  {
   "cell_type": "code",
   "execution_count": 46,
   "metadata": {},
   "outputs": [
    {
     "name": "stdout",
     "output_type": "stream",
     "text": [
      "\n",
      "\n",
      "        Your goal is to generate a textual explanation or narrative as to why an AI model made a certain prediction for one particular instance. \n",
      "        To do this, you will be provided with a dictionary that contains broad descriptions of the specific dataset, target variable, and the task the model was trained on.\n",
      "        Additionally, you will be provided with a dataframe that contains the names of all the features, their descriptions, their values, their average values and their SHAP values.\n",
      "        Finally you will get a single string describing the result of the prediction.\n",
      "\n",
      "        The goal of SHAP is to explain the prediction of an instance by computing the contribution of each feature to the prediction.\n",
      "        Each individual SHAP value is a measure of how much additional probability this feature adds or subtracts \n",
      "        in the predicted probability relative to the base level probability. \n",
      "        This relative nature of the SHAP values might have unexpected consequences that you are to take into account.\n",
      "        For example, features that should intuitively contribute in a positive way (and vice versa), \n",
      "        can still have negative SHAP values if their value is below an average in the dataset.\n",
      "\n",
      "        Here is the data:\n",
      "\n",
      "        Dataset description: The dataset contains information about the football matches during the world cup. Every instance is a match played by a team and holds info about how well the team performed ,\n",
      "        Target description: The target variable is whether the team received (1) or did not receive (0) the Man of the Match award,\n",
      "        Task description\": Predict whether a team will win the Man of the Match award given all the other features,\n",
      "        Feature table:      feature_name  SHAP_value  feature_value  feature_average                                                feature_desc\n",
      "  Fouls Committed    0.247045             22        13.549020                      Number of fouls committed by the team.\n",
      "         Attempts   -0.034400             13        12.333333              Number of attempts or shots taken by the team.\n",
      "Ball Possession %   -0.032912             64        50.107843 Percentage of ball possession by the team during the match.\n",
      "      Goal Scored    0.022867              0         1.303922        Number of goals scored by the team during the match.,\n",
      "        Result: The model predicted a probability of 26.00% for the target variable being 1,\n",
      "                    and therefore predicted the outcome 0.\n",
      "\n",
      "        The features in the \"Feature table\" above are already sorted by their absolute SHAP values to make it easier for you to locate the most important ones. \n",
      "        Always provide the probability of getting outcome 1, even if the predicted outcome is 0. \n",
      "\n",
      "        Please generate a fluent and cohesive narrative that explains the prediction made by the model. In your answer follow these rules.\n",
      "\n",
      "        Format related rules:\n",
      "\n",
      "        1) You can start the answer immediately with the explanation. \n",
      "        2) The answer should end with a single sentence summarizing and weighing the different factors. \n",
      "        3) Limit the entire answer to 10 sentences or fewer. \n",
      "        4) Only invoke the 4 most important features in the narrative. \n",
      "        5) Do not use tables or lists, or simply rattle through the features one by one. The goal is to have a narrative/story.\n",
      "\n",
      "        Content related rules:\n",
      "\n",
      "        1) Be clear about what the model actually predicted and how certain it was about that prediction. \n",
      "        2) Discuss how the features contributed to that prediction and be clear about whether a particular feature had a positive or negative contribution relative to the probability of getting outcome 1.\n",
      "           Make sure to clearly establish this the first time you refer to a feature.\n",
      "        3) Consider the relative magnitude of the absolute SHAP values of the features when referencing their relative importance.\n",
      "        4) The reader should be able to tell what the order of importance of the features is based on their absolute SHAP values. \n",
      "        5) You should provide a suggestion or interpretation as to why a feature contributed in a certain direction. Try to introduce external knowledge that you might have that is not in the SHAP table.  \n",
      "        6) If there is no simple explanation for the effect of a feature, try to consider the context of other features in the interpretation.\n",
      "        7) Do not use the SHAP numeric values in your answer.\n",
      "        8) You can use the feature values themselves in the explanation, as long as they are not categorical variables.\n",
      "        9) Do not use the comparison with the average for every single feature, and reserve it for features where it really clarifies the explanation.  \n",
      "        \n"
     ]
    }
   ],
   "source": [
    "prompt=generator.generate_story_prompt(iloc_pos=0,manipulate=MANIP, manipulation_func=full_inversion)\n",
    "print(prompt)"
   ]
  },
  {
   "cell_type": "code",
   "execution_count": 39,
   "metadata": {},
   "outputs": [
    {
     "name": "stdout",
     "output_type": "stream",
     "text": [
      "Generated story 1/1 with gpt-4o\n",
      "The model predicted a 26.00% probability that the team would receive the Man of the Match award, ultimately predicting that they would not receive it.\n",
      "The most significant factor influencing this prediction was the number of fouls committed by the team, which was notably high at 22.\n",
      "This likely had a negative impact on the team's overall performance and sportsmanship, reducing their chances of earning the award.\n",
      "In contrast, the number of attempts made by the team was slightly above average, but this did not significantly boost their probability of winning the award, possibly because attempts without goals do not strongly influence the outcome.\n",
      "The team's ball possession was relatively high at 64%, which typically suggests control over the game, yet it did not contribute positively to the prediction.\n",
      "This could be due to the lack of goals scored, as the team failed to convert possession into tangible success on the scoreboard.\n",
      "The absence of goals, a critical factor in determining match impact, further diminished the likelihood of receiving the award.\n",
      "In summary, the high number of fouls and the failure to score goals were key factors that outweighed the positive aspects of ball possession and attempts, leading to the prediction that the team would not win the Man of the Match award.\n"
     ]
    }
   ],
   "source": [
    "narratives =generator.generate_stories(trained_model, x , y , tree=True, manipulate=MANIP)\n",
    "narrative_split=re.split(r'(?<!\\w\\.\\w.)(?<![A-Z][a-z]\\.)(?<=\\.|\\?)\\s', narratives[0])\n",
    "for sentence in narrative_split:\n",
    "    print(sentence)"
   ]
  },
  {
   "cell_type": "code",
   "execution_count": 31,
   "metadata": {},
   "outputs": [
    {
     "name": "stdout",
     "output_type": "stream",
     "text": [
      "\n",
      "        An LLM was used to create a narrative to explain and interpret a prediction \n",
      "        made by another smaller classifier model. The LLM was given an explanation of \n",
      "        the classifier task, the training data, and provided with the exact names of all \n",
      "        the features and their meaning. Most importantly, the LLM was provided with a table \n",
      "        that contains the feature values of that particular instance, the average feature values and their SHAP values \n",
      "        which are a numeric measure of their importance. Here is some general info about the task:\n",
      "\n",
      "        Dataset description: The dataset contains information from the 1970s in Germany on a series of debtors that took a loan from the bank. It includes many detailed categorical and one-hot variables about their financial situation. Keep in mind that at the time Germany used Deutsche Marks (DM) with an average yearly salary of 10 000 to 20 000 DM,\n",
      "        Target description: The target variable is whether the customer paid back all their debts on time and turned out to be a good credit (1) or there were some issues and they were a bad credit (0) for the bank.,\n",
      "        Task description\": Predict whether a new customer will be a credit risk or not,\n",
      "\n",
      "        The LLM returned the following narrative: The model predicted a 30% probability that the customer would be a good credit risk, ultimately classifying them as a bad credit risk. The most influential factor in this prediction was the status of the customer's savings account, which indicated no savings account. This lack of savings likely signaled financial instability, contributing negatively to the probability of being a good credit risk. The amount of credit requested was also significant, with the customer asking for 7,763 DM, a figure considerably higher than the average credit request. This large amount might have raised concerns about the customer's ability to repay, further decreasing the likelihood of a positive credit outcome.\n",
      "\n",
      "Additionally, the duration of the credit request, set at 48 months, was longer than typical, suggesting a prolonged financial obligation that could increase the risk of default. Lastly, the status of the checking account, which showed no checking account, added to the negative outlook. This absence might imply limited financial management or resources, reinforcing the model's prediction. In summary, the combination of no savings, a high credit amount, an extended duration, and no checking account led the model to predict a higher risk of credit default.\n",
      "\n",
      "        Your task is to extract some information about all the features that were mentioned in the narrative as a reason.\n",
      "        Provide your answer as a python dictionary with the keys as the feature names. \n",
      "        The values corresponding to the feature name keys are dictionaries themselves that contain the following inner keys\n",
      "        \n",
      "        1) \"rank:\" indicating the order of absolute importance of the feature starting from 0, a key \n",
      "        2) \"sign\": the sign of whether the feature contributed towards target value 1 or against it (either +1 or -1 for sign value).\n",
      "        3) \"value\": if the value of the feature is mentioned in a way that you can put an exact number on add it. Only return numeric values here.\n",
      "        If the description of the value is qualitative such as \"many\" or \"often\" and not mentioning an exact value, return \"None\" for its value.\n",
      "        4) \"assumption\": give a short but complete 1 sentence summary of what the assumption is in the story for this feature.\n",
      "        Provide this assumption as a general statement that could be fact checked later and that does not require this narrative as context.\n",
      "        If no reason or suggestion is made in the story do not make something up and just return string 'None'.\n",
      "         \n",
      "        \n",
      "        Make sure that both the \"rank\", \"sign\", \"value\" and \"assumption\" keys and their values are always present in the inner dictionaries.\n",
      "        Make sure that the \"rank\" key is sorted from 0 to an increasing value in the dictionary. The first element cannot have any other rank than 0.\n",
      "        Please just provide the python dictionary as a string and add nothing else to the answer.\n",
      "\n",
      "        The features and their descriptions are provided in the table below. \n",
      "\n",
      "        Make sure to use the exact names of the features as provided in the table, including capitalization:\n",
      "                       feature_name                                                                                                                                            feature_desc\n",
      "                     status                         Status of the checking account: (1: no checking account, 2: negative checking account, 3: between 0 and 200 DM, 4: Above 200 DM\n",
      "                   duration                                                                                                                Duration of the credit request in months\n",
      "             credit_history      Credit history of the customer (increasing rating from 0: history of delayed payments on previous credits to 4: all credits always paid back duly)\n",
      "                     amount                                                                                                                        Amount of credit requested in DM\n",
      "                    savings Status of the savings account (1: no savings account, 2: less than 100 DM, 3: Between 100 and 500 DM, 4: Between 500 and 1000 DM, 5: More than 1000 DM)\n",
      "        employment_duration          Duration of current employment (1: Unemmployed, 2: less than 1 year, 3: between 1 and 4 years, 4: between 4 and 7 years, 5: more than 7 years)\n",
      "           installment_rate                                 Installment rate is the amount to be paid at fixed intervals (here given as a percentage of debtor’s disposable income)\n",
      "              other_debtors                                         Are there any other people involved in the credit? (0: No, 1: There are co-applicants, 2: There are guarantors)\n",
      "          present_residence                                                                                     Length of time (in years) the debtor lives in the present residence\n",
      "                        age                                                                                                                                  Age of debtor in years\n",
      "    other_installment_plans       Other running installments that have to be made by the debtor (1: yes, installments to bank, 2: yes, installments to stores , 3: no installments)\n",
      "             number_credits                                                                        Number of credits including the current one the debtor has (or had) at this bank\n",
      "                        job                                                                                                    Type of job (from 1: unskilled to 4: highly skilled)\n",
      "              people_liable                                              Number of people that are financially dependent on the debtor (1: 3 or more people, 2: less than 3 people)\n",
      "                  telephone                                                                                                       Does the debtor have a telephone? (1: no, 2: yes)\n",
      "             foreign_worker                                                                                                         Is the debtor a foreign worker? (1: yes, 2: no)\n",
      "           purpose_business                                                                                                     One-hot variable for the credit purpose -- business\n",
      "            purpose_car_new                                                                                                      One-hot variable for the credit purpose -- new car\n",
      "           purpose_car_used                                                                                                     One-hot variable for the credit purpose -- used car\n",
      "purpose_domestic_appliances                                                                                          One-hot variable for the credit purpose -- domestic appliances\n",
      "         purpose_furnitures                                                                                                    One-hot variable for the credit purpose -- furniture\n",
      "             purpose_others                                                                                                       One-hot variable for the credit purpose -- others\n",
      "           purpose_radio_tv                                                                                                  One-hot variable for the credit purpose -- radio or tv\n",
      "            purpose_repairs                                                                                                      One-hot variable for the credit purpose -- repairs\n",
      "         purpose_retraining                                                                                                   One-hot variable for the credit purpose -- retraining\n",
      "           purpose_vacation                                                                                                     One-hot variable for the credit purpose -- vacation\n",
      "               housing_free                                                               One hot variable for housing situation -- debtor lives for free in someone elses property\n",
      "                housing_own                                                                            One hot variable for housing situation -- debtor lives in their own property\n",
      "               housing_rent                                                                               One hot variable for housing situation -- debtor lives in rented property\n",
      "        \n"
     ]
    }
   ],
   "source": [
    "extractor=ExtractionModel(ds_info=ds_info, llm=gpt)\n",
    "prompt=extractor.generate_prompt(narratives[0])\n",
    "print(prompt)"
   ]
  },
  {
   "cell_type": "code",
   "execution_count": 12,
   "metadata": {},
   "outputs": [
    {
     "name": "stdout",
     "output_type": "stream",
     "text": [
      "Extracted story 1/1 with gpt-4o\n"
     ]
    },
    {
     "data": {
      "text/plain": [
       "{'Mjob_teacher': {'rank': 0,\n",
       "  'sign': 1,\n",
       "  'value': None,\n",
       "  'assumption': 'Having a mother in a teaching profession likely provides a supportive and academically-oriented environment.'},\n",
       " 'absences': {'rank': 1,\n",
       "  'sign': -1,\n",
       "  'value': 2,\n",
       "  'assumption': 'Even a relatively low number of absences can hinder academic performance.'},\n",
       " 'failures': {'rank': 2,\n",
       "  'sign': 1,\n",
       "  'value': None,\n",
       "  'assumption': 'A lack of past class failures indicates a strong academic foundation.'},\n",
       " 'goout': {'rank': 3,\n",
       "  'sign': 1,\n",
       "  'value': None,\n",
       "  'assumption': 'A moderate frequency of going out with friends may help maintain a balance between social life and academic responsibilities.'}}"
      ]
     },
     "execution_count": 12,
     "metadata": {},
     "output_type": "execute_result"
    }
   ],
   "source": [
    "extraction=extractor.generate_extractions(narratives)\n",
    "extraction[0]"
   ]
  },
  {
   "cell_type": "code",
   "execution_count": 13,
   "metadata": {},
   "outputs": [
    {
     "data": {
      "text/html": [
       "<div>\n",
       "<style scoped>\n",
       "    .dataframe tbody tr th:only-of-type {\n",
       "        vertical-align: middle;\n",
       "    }\n",
       "\n",
       "    .dataframe tbody tr th {\n",
       "        vertical-align: top;\n",
       "    }\n",
       "\n",
       "    .dataframe thead th {\n",
       "        text-align: right;\n",
       "    }\n",
       "</style>\n",
       "<table border=\"1\" class=\"dataframe\">\n",
       "  <thead>\n",
       "    <tr style=\"text-align: right;\">\n",
       "      <th></th>\n",
       "      <th>feature_name</th>\n",
       "      <th>SHAP_value</th>\n",
       "      <th>feature_value</th>\n",
       "      <th>feature_average</th>\n",
       "      <th>feature_desc</th>\n",
       "    </tr>\n",
       "  </thead>\n",
       "  <tbody>\n",
       "    <tr>\n",
       "      <th>0</th>\n",
       "      <td>goout</td>\n",
       "      <td>0.063416</td>\n",
       "      <td>2</td>\n",
       "      <td>3.098101</td>\n",
       "      <td>Going out with friends (from 1 - very low to 5...</td>\n",
       "    </tr>\n",
       "    <tr>\n",
       "      <th>1</th>\n",
       "      <td>failures</td>\n",
       "      <td>0.038342</td>\n",
       "      <td>0</td>\n",
       "      <td>0.360759</td>\n",
       "      <td>Number of past class failures (from 0 to 3)</td>\n",
       "    </tr>\n",
       "    <tr>\n",
       "      <th>2</th>\n",
       "      <td>absences</td>\n",
       "      <td>0.036718</td>\n",
       "      <td>2</td>\n",
       "      <td>5.750000</td>\n",
       "      <td>Number of school absences (actual number of ab...</td>\n",
       "    </tr>\n",
       "    <tr>\n",
       "      <th>3</th>\n",
       "      <td>Mjob_teacher</td>\n",
       "      <td>-0.030872</td>\n",
       "      <td>1</td>\n",
       "      <td>0.136076</td>\n",
       "      <td>One-hot variable for mothers's job -- teacher</td>\n",
       "    </tr>\n",
       "  </tbody>\n",
       "</table>\n",
       "</div>"
      ],
      "text/plain": [
       "   feature_name  SHAP_value  feature_value  feature_average  \\\n",
       "0         goout    0.063416              2         3.098101   \n",
       "1      failures    0.038342              0         0.360759   \n",
       "2      absences    0.036718              2         5.750000   \n",
       "3  Mjob_teacher   -0.030872              1         0.136076   \n",
       "\n",
       "                                        feature_desc  \n",
       "0  Going out with friends (from 1 - very low to 5...  \n",
       "1        Number of past class failures (from 0 to 3)  \n",
       "2  Number of school absences (actual number of ab...  \n",
       "3      One-hot variable for mothers's job -- teacher  "
      ]
     },
     "execution_count": 13,
     "metadata": {},
     "output_type": "execute_result"
    }
   ],
   "source": [
    "generator.explanation_list[0].head(4)"
   ]
  },
  {
   "cell_type": "code",
   "execution_count": 14,
   "metadata": {},
   "outputs": [],
   "source": [
    "rank_diff, sign_diff , value_diff, real_rank, extracted_rank=extractor.get_diff(extraction[0],generator.explanation_list[0])"
   ]
  },
  {
   "cell_type": "code",
   "execution_count": 15,
   "metadata": {},
   "outputs": [
    {
     "data": {
      "text/plain": [
       "[-3.0, -1.0, 1.0, 3.0]"
      ]
     },
     "execution_count": 15,
     "metadata": {},
     "output_type": "execute_result"
    }
   ],
   "source": [
    "rank_diff"
   ]
  },
  {
   "cell_type": "code",
   "execution_count": 16,
   "metadata": {},
   "outputs": [
    {
     "data": {
      "text/plain": [
       "[1.0, 1.0, 0.0, 0.0]"
      ]
     },
     "execution_count": 16,
     "metadata": {},
     "output_type": "execute_result"
    }
   ],
   "source": [
    "sign_diff"
   ]
  }
 ],
 "metadata": {
  "kernelspec": {
   "display_name": "venv",
   "language": "python",
   "name": "python3"
  },
  "language_info": {
   "codemirror_mode": {
    "name": "ipython",
    "version": 3
   },
   "file_extension": ".py",
   "mimetype": "text/x-python",
   "name": "python",
   "nbconvert_exporter": "python",
   "pygments_lexer": "ipython3",
   "version": "3.12.4"
  }
 },
 "nbformat": 4,
 "nbformat_minor": 2
}
