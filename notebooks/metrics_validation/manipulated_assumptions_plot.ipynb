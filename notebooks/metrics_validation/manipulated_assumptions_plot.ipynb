{
 "cells": [
  {
   "cell_type": "code",
   "execution_count": null,
   "metadata": {},
   "outputs": [],
   "source": [
    "import json\n",
    "import matplotlib\n",
    "import matplotlib.pyplot as plt\n",
    "import numpy as np\n",
    "import csv\n",
    "import pandas as pd\n",
    "\n",
    "with open(\"results/experiments/manipulated_assumptions_ppl.json\",\"r\") as f:\n",
    "    ppl_dict=json.load(f)\n",
    "\n",
    "df_manip = pd.read_excel(\"results/experiments/assumption_list_manip.xlsx\")\n",
    "    \n",
    "real=np.array(ppl_dict[\"real\"])\n",
    "manip=np.array(ppl_dict[\"manip\"])\n",
    "\n",
    "\n",
    "#sort by difference value\n",
    "diff=manip-real\n",
    "i_min=np.argmin(diff)\n",
    "i_max=np.argmax(diff)\n",
    "\n",
    "diff=np.sort(diff)\n",
    "\n",
    "#convert into csv for ease of use in tikz\n",
    "# Open or create a CSV file\n",
    "\n",
    "with open('results/experiments/manipulated_assumptions_ppl.csv', 'w', newline='') as csvfile:\n",
    "    writer = csv.writer(csvfile)\n",
    "    \n",
    "    # Write rows of the two lists as columns\n",
    "    for i in range(len(diff)):\n",
    "        writer.writerow([diff[i] ])\n"
   ]
  },
  {
   "cell_type": "code",
   "execution_count": null,
   "metadata": {},
   "outputs": [],
   "source": [
    "df_manip.iloc[i_min][\"real_assumption\"]"
   ]
  },
  {
   "cell_type": "code",
   "execution_count": null,
   "metadata": {},
   "outputs": [],
   "source": [
    "df_manip.iloc[i_min][\"manipulated_assumption\"]"
   ]
  },
  {
   "cell_type": "code",
   "execution_count": null,
   "metadata": {},
   "outputs": [],
   "source": [
    "df_manip.iloc[i_max][\"real_assumption\"]"
   ]
  },
  {
   "cell_type": "code",
   "execution_count": null,
   "metadata": {},
   "outputs": [],
   "source": [
    "df_manip.iloc[i_max][\"manipulated_assumption\"]"
   ]
  }
 ],
 "metadata": {
  "kernelspec": {
   "display_name": "venv",
   "language": "python",
   "name": "python3"
  },
  "language_info": {
   "codemirror_mode": {
    "name": "ipython",
    "version": 3
   },
   "file_extension": ".py",
   "mimetype": "text/x-python",
   "name": "python",
   "nbconvert_exporter": "python",
   "pygments_lexer": "ipython3",
   "version": "3.12.4"
  }
 },
 "nbformat": 4,
 "nbformat_minor": 2
}
